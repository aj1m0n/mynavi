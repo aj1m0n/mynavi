{
 "cells": [
  {
   "cell_type": "markdown",
   "metadata": {},
   "source": [
    "# マイナビ　学生コンペ\n",
    "## アプローチ\n",
    "- データ相関\n",
    "- randam forest\n",
    "- boosting"
   ]
  },
  {
   "cell_type": "markdown",
   "metadata": {},
   "source": [
    "## データ読み込み"
   ]
  },
  {
   "cell_type": "code",
   "execution_count": 1,
   "metadata": {},
   "outputs": [],
   "source": [
    "import pandas as pd\n",
    "import numpy as np"
   ]
  },
  {
   "cell_type": "code",
   "execution_count": 2,
   "metadata": {},
   "outputs": [
    {
     "data": {
      "text/html": [
       "<div>\n",
       "<style scoped>\n",
       "    .dataframe tbody tr th:only-of-type {\n",
       "        vertical-align: middle;\n",
       "    }\n",
       "\n",
       "    .dataframe tbody tr th {\n",
       "        vertical-align: top;\n",
       "    }\n",
       "\n",
       "    .dataframe thead th {\n",
       "        text-align: right;\n",
       "    }\n",
       "</style>\n",
       "<table border=\"1\" class=\"dataframe\">\n",
       "  <thead>\n",
       "    <tr style=\"text-align: right;\">\n",
       "      <th></th>\n",
       "      <th>id</th>\n",
       "      <th>match_date</th>\n",
       "      <th>kick_off_time</th>\n",
       "      <th>section</th>\n",
       "      <th>round</th>\n",
       "      <th>home_team</th>\n",
       "      <th>away_team</th>\n",
       "      <th>venue</th>\n",
       "      <th>weather</th>\n",
       "      <th>temperature</th>\n",
       "      <th>humidity</th>\n",
       "      <th>broadcasters</th>\n",
       "      <th>attendance</th>\n",
       "    </tr>\n",
       "  </thead>\n",
       "  <tbody>\n",
       "    <tr>\n",
       "      <th>0</th>\n",
       "      <td>9190</td>\n",
       "      <td>2006-03-04</td>\n",
       "      <td>16:04</td>\n",
       "      <td>第1節</td>\n",
       "      <td>第1日</td>\n",
       "      <td>G大阪</td>\n",
       "      <td>浦和</td>\n",
       "      <td>万博記念競技場</td>\n",
       "      <td>晴</td>\n",
       "      <td>8.3</td>\n",
       "      <td>40</td>\n",
       "      <td>NHK総合/J SPORTS(録)</td>\n",
       "      <td>20916</td>\n",
       "    </tr>\n",
       "    <tr>\n",
       "      <th>1</th>\n",
       "      <td>9191</td>\n",
       "      <td>2006-03-05</td>\n",
       "      <td>13:00</td>\n",
       "      <td>第1節</td>\n",
       "      <td>第2日</td>\n",
       "      <td>甲府</td>\n",
       "      <td>清水</td>\n",
       "      <td>山梨県小瀬スポーツ公園陸上競技場</td>\n",
       "      <td>晴</td>\n",
       "      <td>12.9</td>\n",
       "      <td>28</td>\n",
       "      <td>山梨放送/テレビ静岡(録)/J SPORTS(録)</td>\n",
       "      <td>14277</td>\n",
       "    </tr>\n",
       "    <tr>\n",
       "      <th>2</th>\n",
       "      <td>9192</td>\n",
       "      <td>2006-03-05</td>\n",
       "      <td>13:35</td>\n",
       "      <td>第1節</td>\n",
       "      <td>第2日</td>\n",
       "      <td>FC東京</td>\n",
       "      <td>大分</td>\n",
       "      <td>味の素スタジアム</td>\n",
       "      <td>晴</td>\n",
       "      <td>12.1</td>\n",
       "      <td>35</td>\n",
       "      <td>BS-i/MXテレビ(録)/J SPORTS(録)</td>\n",
       "      <td>22531</td>\n",
       "    </tr>\n",
       "    <tr>\n",
       "      <th>3</th>\n",
       "      <td>9193</td>\n",
       "      <td>2006-03-05</td>\n",
       "      <td>14:04</td>\n",
       "      <td>第1節</td>\n",
       "      <td>第2日</td>\n",
       "      <td>磐田</td>\n",
       "      <td>福岡</td>\n",
       "      <td>静岡スタジアムエコパ</td>\n",
       "      <td>晴</td>\n",
       "      <td>11.6</td>\n",
       "      <td>42</td>\n",
       "      <td>J SPORTS</td>\n",
       "      <td>28564</td>\n",
       "    </tr>\n",
       "    <tr>\n",
       "      <th>4</th>\n",
       "      <td>9194</td>\n",
       "      <td>2006-03-05</td>\n",
       "      <td>14:04</td>\n",
       "      <td>第1節</td>\n",
       "      <td>第2日</td>\n",
       "      <td>名古屋</td>\n",
       "      <td>C大阪</td>\n",
       "      <td>名古屋市瑞穂陸上競技場</td>\n",
       "      <td>晴</td>\n",
       "      <td>13.1</td>\n",
       "      <td>32</td>\n",
       "      <td>スカイパーフェクTV!/NHK名古屋(録)/NHK大阪(録)/J SPORTS(録)</td>\n",
       "      <td>17199</td>\n",
       "    </tr>\n",
       "  </tbody>\n",
       "</table>\n",
       "</div>"
      ],
      "text/plain": [
       "     id  match_date kick_off_time section round home_team away_team  \\\n",
       "0  9190  2006-03-04         16:04     第1節   第1日       G大阪        浦和   \n",
       "1  9191  2006-03-05         13:00     第1節   第2日        甲府        清水   \n",
       "2  9192  2006-03-05         13:35     第1節   第2日      FC東京        大分   \n",
       "3  9193  2006-03-05         14:04     第1節   第2日        磐田        福岡   \n",
       "4  9194  2006-03-05         14:04     第1節   第2日       名古屋       C大阪   \n",
       "\n",
       "              venue weather  temperature  humidity  \\\n",
       "0           万博記念競技場       晴          8.3        40   \n",
       "1  山梨県小瀬スポーツ公園陸上競技場       晴         12.9        28   \n",
       "2          味の素スタジアム       晴         12.1        35   \n",
       "3        静岡スタジアムエコパ       晴         11.6        42   \n",
       "4       名古屋市瑞穂陸上競技場       晴         13.1        32   \n",
       "\n",
       "                                 broadcasters  attendance  \n",
       "0                           NHK総合/J SPORTS(録)       20916  \n",
       "1                   山梨放送/テレビ静岡(録)/J SPORTS(録)       14277  \n",
       "2                   BS-i/MXテレビ(録)/J SPORTS(録)       22531  \n",
       "3                                    J SPORTS       28564  \n",
       "4  スカイパーフェクTV!/NHK名古屋(録)/NHK大阪(録)/J SPORTS(録)       17199  "
      ]
     },
     "execution_count": 2,
     "metadata": {},
     "output_type": "execute_result"
    }
   ],
   "source": [
    "trainData = pd.read_csv(\"./input/train.csv\")\n",
    "testData = pd.read_csv(\"./input/test.csv\")\n",
    "trainData.head()"
   ]
  },
  {
   "cell_type": "code",
   "execution_count": 3,
   "metadata": {},
   "outputs": [
    {
     "data": {
      "text/plain": [
       "id                 int64\n",
       "match_date        object\n",
       "kick_off_time     object\n",
       "section           object\n",
       "round             object\n",
       "home_team         object\n",
       "away_team         object\n",
       "venue             object\n",
       "weather           object\n",
       "temperature      float64\n",
       "humidity           int64\n",
       "broadcasters      object\n",
       "attendance         int64\n",
       "dtype: object"
      ]
     },
     "execution_count": 3,
     "metadata": {},
     "output_type": "execute_result"
    }
   ],
   "source": [
    "trainData.dtypes"
   ]
  },
  {
   "cell_type": "code",
   "execution_count": 4,
   "metadata": {},
   "outputs": [
    {
     "data": {
      "text/plain": [
       "array(['id', 'match_date', 'kick_off_time', 'section', 'round',\n",
       "       'home_team', 'away_team', 'venue', 'weather', 'temperature',\n",
       "       'humidity', 'broadcasters', 'attendance'], dtype=object)"
      ]
     },
     "execution_count": 4,
     "metadata": {},
     "output_type": "execute_result"
    }
   ],
   "source": [
    "trainData.columns.values"
   ]
  },
  {
   "cell_type": "code",
   "execution_count": 5,
   "metadata": {},
   "outputs": [
    {
     "data": {
      "text/plain": [
       "<matplotlib.axes._subplots.AxesSubplot at 0x7fb9579c7b00>"
      ]
     },
     "execution_count": 5,
     "metadata": {},
     "output_type": "execute_result"
    }
   ],
   "source": [
    "import seaborn as sns\n",
    "sns.heatmap(trainData[[ 'temperature','humidity','attendance']].corr(), annot=True, fmt = \".2f\", cmap = \"coolwarm\")"
   ]
  },
  {
   "cell_type": "code",
   "execution_count": 6,
   "metadata": {},
   "outputs": [
    {
     "data": {
      "text/plain": [
       "<matplotlib.axes._subplots.AxesSubplot at 0x7fb951663198>"
      ]
     },
     "execution_count": 6,
     "metadata": {},
     "output_type": "execute_result"
    },
    {
     "data": {
      "image/png": "[encoded data removed]",
      "text/plain": [
       "<Figure size 432x288 with 2 Axes>"
      ]
     },
     "metadata": {
      "needs_background": "light"
     },
     "output_type": "display_data"
    }
   ],
   "source": [
    "mask = np.zeros_like(trainData[['temperature','humidity','attendance']].corr())\n",
    "mask[np.triu_indices_from(mask)] = True\n",
    "sns.heatmap(trainData[[ 'temperature','humidity','attendance']].corr(), annot=True, fmt = \".2f\", cmap = \"coolwarm\", mask=mask)"
   ]
  },
  {
   "cell_type": "markdown",
   "metadata": {},
   "source": [
    "### int型になっているデータのほとんどが相関性がないので使えなさそう\n",
    "- 相関性がありそうなobject\n",
    "-- 曜日，天気，スタジアム\n",
    "→数値化して見てみる"
   ]
  },
  {
   "cell_type": "markdown",
   "metadata": {},
   "source": [
    "#### 天気"
   ]
  },
  {
   "cell_type": "code",
   "execution_count": 7,
   "metadata": {},
   "outputs": [
    {
     "data": {
      "text/plain": [
       "array(['屋内', '晴', '晴のち曇', '晴のち曇一時雨', '晴のち雨', '晴のち雪', '晴一時曇', '晴一時雨',\n",
       "       '晴一時雨のち曇', '晴時々曇', '晴時々曇一時雨', '晴時々雪', '曇', '曇のち晴', '曇のち雨',\n",
       "       '曇のち雨のち屋内', '曇のち雨のち晴', '曇のち雨のち曇', '曇のち雨一時雷', '曇のち雷雨', '曇一時晴',\n",
       "       '曇一時雨', '曇一時雨のち晴', '曇一時雨のち曇', '曇一時雷雨のち曇', '曇一時雷雨のち雨', '曇時々晴',\n",
       "       '曇時々晴のち屋内', '曇時々晴一時雨', '曇時々雨', '曇時々雨のち晴', '曇時々雪', '雨', '雨のち晴',\n",
       "       '雨のち曇', '雨のち曇のち晴', '雨のち曇一時雨', '雨のち曇時々雨', '雨一時曇', '雨一時曇のち雨',\n",
       "       '雨一時雷雨', '雨時々晴', '雨時々曇', '雪', '雷雨のち曇', '霧'], dtype=object)"
      ]
     },
     "execution_count": 7,
     "metadata": {},
     "output_type": "execute_result"
    }
   ],
   "source": [
    "pd.get_dummies(trainData[\"weather\"]).columns.values"
   ]
  },
  {
   "cell_type": "code",
   "execution_count": 8,
   "metadata": {},
   "outputs": [],
   "source": [
    "trainData[\"weather\"] = trainData[\"weather\"].map({'屋内':0, '晴':1, '晴のち曇':2, '晴のち曇一時雨':3, '晴のち雨':4, '晴のち雪':5, '晴一時曇':6, '晴一時雨':7,\n",
    "       '晴一時雨のち曇':8, '晴時々曇':9, '晴時々曇一時雨':10, '晴時々雪':11, '曇':12, '曇のち晴':13, '曇のち雨':14,\n",
    "       '曇のち雨のち屋内':15, '曇のち雨のち晴':16, '曇のち雨のち曇':17, '曇のち雨一時雷':18, '曇のち雷雨':19, '曇一時晴':20,\n",
    "       '曇一時雨':21, '曇一時雨のち晴':22, '曇一時雨のち曇':23, '曇一時雷雨のち曇':24, '曇一時雷雨のち雨':25, '曇時々晴':26,\n",
    "       '曇時々晴のち屋内':27, '曇時々晴一時雨':28, '曇時々雨':29, '曇時々雨のち晴':30, '曇時々雪':31, '雨':32, '雨のち晴':33,\n",
    "       '雨のち曇':34, '雨のち曇のち晴':35, '雨のち曇一時雨':36, '雨のち曇時々雨':37, '雨一時曇':38, '雨一時曇のち雨':39,\n",
    "       '雨一時雷雨':40, '雨時々晴':41, '雨時々曇':42, '雪':43, '雷雨のち曇':44, '霧':45})"
   ]
  },
  {
   "cell_type": "code",
   "execution_count": 9,
   "metadata": {},
   "outputs": [
    {
     "data": {
      "text/html": [
       "<div>\n",
       "<style scoped>\n",
       "    .dataframe tbody tr th:only-of-type {\n",
       "        vertical-align: middle;\n",
       "    }\n",
       "\n",
       "    .dataframe tbody tr th {\n",
       "        vertical-align: top;\n",
       "    }\n",
       "\n",
       "    .dataframe thead th {\n",
       "        text-align: right;\n",
       "    }\n",
       "</style>\n",
       "<table border=\"1\" class=\"dataframe\">\n",
       "  <thead>\n",
       "    <tr style=\"text-align: right;\">\n",
       "      <th></th>\n",
       "      <th>id</th>\n",
       "      <th>match_date</th>\n",
       "      <th>kick_off_time</th>\n",
       "      <th>section</th>\n",
       "      <th>round</th>\n",
       "      <th>home_team</th>\n",
       "      <th>away_team</th>\n",
       "      <th>venue</th>\n",
       "      <th>weather</th>\n",
       "      <th>temperature</th>\n",
       "      <th>humidity</th>\n",
       "      <th>broadcasters</th>\n",
       "      <th>attendance</th>\n",
       "    </tr>\n",
       "  </thead>\n",
       "  <tbody>\n",
       "    <tr>\n",
       "      <th>0</th>\n",
       "      <td>9190</td>\n",
       "      <td>2006-03-04</td>\n",
       "      <td>16:04</td>\n",
       "      <td>第1節</td>\n",
       "      <td>第1日</td>\n",
       "      <td>G大阪</td>\n",
       "      <td>浦和</td>\n",
       "      <td>万博記念競技場</td>\n",
       "      <td>1</td>\n",
       "      <td>8.3</td>\n",
       "      <td>40</td>\n",
       "      <td>NHK総合/J SPORTS(録)</td>\n",
       "      <td>20916</td>\n",
       "    </tr>\n",
       "    <tr>\n",
       "      <th>1</th>\n",
       "      <td>9191</td>\n",
       "      <td>2006-03-05</td>\n",
       "      <td>13:00</td>\n",
       "      <td>第1節</td>\n",
       "      <td>第2日</td>\n",
       "      <td>甲府</td>\n",
       "      <td>清水</td>\n",
       "      <td>山梨県小瀬スポーツ公園陸上競技場</td>\n",
       "      <td>1</td>\n",
       "      <td>12.9</td>\n",
       "      <td>28</td>\n",
       "      <td>山梨放送/テレビ静岡(録)/J SPORTS(録)</td>\n",
       "      <td>14277</td>\n",
       "    </tr>\n",
       "    <tr>\n",
       "      <th>2</th>\n",
       "      <td>9192</td>\n",
       "      <td>2006-03-05</td>\n",
       "      <td>13:35</td>\n",
       "      <td>第1節</td>\n",
       "      <td>第2日</td>\n",
       "      <td>FC東京</td>\n",
       "      <td>大分</td>\n",
       "      <td>味の素スタジアム</td>\n",
       "      <td>1</td>\n",
       "      <td>12.1</td>\n",
       "      <td>35</td>\n",
       "      <td>BS-i/MXテレビ(録)/J SPORTS(録)</td>\n",
       "      <td>22531</td>\n",
       "    </tr>\n",
       "    <tr>\n",
       "      <th>3</th>\n",
       "      <td>9193</td>\n",
       "      <td>2006-03-05</td>\n",
       "      <td>14:04</td>\n",
       "      <td>第1節</td>\n",
       "      <td>第2日</td>\n",
       "      <td>磐田</td>\n",
       "      <td>福岡</td>\n",
       "      <td>静岡スタジアムエコパ</td>\n",
       "      <td>1</td>\n",
       "      <td>11.6</td>\n",
       "      <td>42</td>\n",
       "      <td>J SPORTS</td>\n",
       "      <td>28564</td>\n",
       "    </tr>\n",
       "    <tr>\n",
       "      <th>4</th>\n",
       "      <td>9194</td>\n",
       "      <td>2006-03-05</td>\n",
       "      <td>14:04</td>\n",
       "      <td>第1節</td>\n",
       "      <td>第2日</td>\n",
       "      <td>名古屋</td>\n",
       "      <td>C大阪</td>\n",
       "      <td>名古屋市瑞穂陸上競技場</td>\n",
       "      <td>1</td>\n",
       "      <td>13.1</td>\n",
       "      <td>32</td>\n",
       "      <td>スカイパーフェクTV!/NHK名古屋(録)/NHK大阪(録)/J SPORTS(録)</td>\n",
       "      <td>17199</td>\n",
       "    </tr>\n",
       "  </tbody>\n",
       "</table>\n",
       "</div>"
      ],
      "text/plain": [
       "     id  match_date kick_off_time section round home_team away_team  \\\n",
       "0  9190  2006-03-04         16:04     第1節   第1日       G大阪        浦和   \n",
       "1  9191  2006-03-05         13:00     第1節   第2日        甲府        清水   \n",
       "2  9192  2006-03-05         13:35     第1節   第2日      FC東京        大分   \n",
       "3  9193  2006-03-05         14:04     第1節   第2日        磐田        福岡   \n",
       "4  9194  2006-03-05         14:04     第1節   第2日       名古屋       C大阪   \n",
       "\n",
       "              venue  weather  temperature  humidity  \\\n",
       "0           万博記念競技場        1          8.3        40   \n",
       "1  山梨県小瀬スポーツ公園陸上競技場        1         12.9        28   \n",
       "2          味の素スタジアム        1         12.1        35   \n",
       "3        静岡スタジアムエコパ        1         11.6        42   \n",
       "4       名古屋市瑞穂陸上競技場        1         13.1        32   \n",
       "\n",
       "                                 broadcasters  attendance  \n",
       "0                           NHK総合/J SPORTS(録)       20916  \n",
       "1                   山梨放送/テレビ静岡(録)/J SPORTS(録)       14277  \n",
       "2                   BS-i/MXテレビ(録)/J SPORTS(録)       22531  \n",
       "3                                    J SPORTS       28564  \n",
       "4  スカイパーフェクTV!/NHK名古屋(録)/NHK大阪(録)/J SPORTS(録)       17199  "
      ]
     },
     "execution_count": 9,
     "metadata": {},
     "output_type": "execute_result"
    }
   ],
   "source": [
    "trainData.head()"
   ]
  },
  {
   "cell_type": "markdown",
   "metadata": {},
   "source": [
    "#### スタジアム"
   ]
  },
  {
   "cell_type": "code",
   "execution_count": 10,
   "metadata": {},
   "outputs": [
    {
     "data": {
      "text/plain": [
       "array(['IAIスタジアム日本平', 'NACK5スタジアム大宮', 'NDソフトスタジアム山形', 'ShonanBMWスタジアム平塚',\n",
       "       'さいたま市浦和駒場スタジアム', 'アウトソーシングスタジアム日本平', 'エコパスタジアム', 'エディオンスタジアム広島',\n",
       "       'キンチョウスタジアム', 'コカ・コーラウエスト広島スタジアム', 'デンカビッグスワンスタジアム', 'ニッパツ三ツ沢球技場',\n",
       "       'ノエビアスタジアム神戸', 'パロマ瑞穂スタジアム', 'フクダ電子アリーナ', 'ベストアメニティスタジアム',\n",
       "       'ホームズスタジアム神戸', 'ヤマハスタジアム(磐田)', 'ヤンマースタジアム長居', 'ユアテックスタジアム仙台',\n",
       "       'レベルファイブスタジアム', '万博記念競技場', '九州石油ドーム', '京都市西京極総合運動公園陸上競技場兼球技場',\n",
       "       '佐賀県総合運動場陸上競技場', '名古屋市瑞穂球技場', '名古屋市瑞穂陸上競技場', '味の素スタジアム', '国立競技場',\n",
       "       '埼玉スタジアム2002', '大分銀行ドーム', '大阪長居スタジアム', '大阪長居第2陸上競技場', '宮城スタジアム',\n",
       "       '山梨中銀スタジアム', '山梨県小瀬スポーツ公園陸上競技場', '市立吹田サッカースタジアム', '平塚競技場',\n",
       "       '広島ビッグアーチ', '新潟スタジアム', '日本平スタジアム', '日産スタジアム', '日立柏サッカー場', '札幌ドーム',\n",
       "       '札幌厚別公園競技場', '東北電力ビッグスワンスタジアム', '東平尾公園博多の森球技場', '松本平広域公園総合球技場',\n",
       "       '柏の葉公園総合競技場', '横浜市三ツ沢公園球技場', '熊本県民総合運動公園陸上競技場', '熊谷スポーツ文化公園陸上競技場',\n",
       "       '県立カシマサッカースタジアム', '石川県西部緑地公園陸上競技場', '神戸総合運動公園ユニバー記念競技場',\n",
       "       '等々力陸上競技場', '豊田スタジアム', '静岡スタジアムエコパ', '鳴門・大塚スポーツパークポカリスエットスタジアム',\n",
       "       '鹿児島県立鴨池陸上競技場'], dtype=object)"
      ]
     },
     "execution_count": 10,
     "metadata": {},
     "output_type": "execute_result"
    }
   ],
   "source": [
    "pd.get_dummies(trainData[\"venue\"]).columns.values"
   ]
  },
  {
   "cell_type": "code",
   "execution_count": 11,
   "metadata": {},
   "outputs": [],
   "source": [
    "trainData[\"venue\"] = trainData[\"venue\"].map({'IAIスタジアム日本平':0, 'NACK5スタジアム大宮':1, 'NDソフトスタジアム山形':2, 'ShonanBMWスタジアム平塚':3,\n",
    "       'さいたま市浦和駒場スタジアム':4, 'アウトソーシングスタジアム日本平':5, 'エコパスタジアム':6, 'エディオンスタジアム広島':7,\n",
    "       'キンチョウスタジアム':8, 'コカ・コーラウエスト広島スタジアム':9, 'デンカビッグスワンスタジアム':10, 'ニッパツ三ツ沢球技場':11,\n",
    "       'ノエビアスタジアム神戸':12, 'パロマ瑞穂スタジアム':13, 'フクダ電子アリーナ':14, 'ベストアメニティスタジアム':15,\n",
    "       'ホームズスタジアム神戸':16, 'ヤマハスタジアム(磐田)':17, 'ヤンマースタジアム長居':18, 'ユアテックスタジアム仙台':19,\n",
    "       'レベルファイブスタジアム':20, '万博記念競技場':21, '九州石油ドーム':22, '京都市西京極総合運動公園陸上競技場兼球技場':23,\n",
    "       '佐賀県総合運動場陸上競技場':24, '名古屋市瑞穂球技場':25, '名古屋市瑞穂陸上競技場':26, '味の素スタジアム':27, '国立競技場':28,\n",
    "       '埼玉スタジアム2002':29, '大分銀行ドーム':30, '大阪長居スタジアム':31, '大阪長居第2陸上競技場':32, '宮城スタジアム':33,\n",
    "       '山梨中銀スタジアム':34, '山梨県小瀬スポーツ公園陸上競技場':35, '市立吹田サッカースタジアム':36, '平塚競技場':37,\n",
    "       '広島ビッグアーチ':38, '新潟スタジアム':39, '日本平スタジアム':40, '日産スタジアム':41, '日立柏サッカー場':42, '札幌ドーム':43,\n",
    "       '札幌厚別公園競技場':44, '東北電力ビッグスワンスタジアム':45, '東平尾公園博多の森球技場':46, '松本平広域公園総合球技場':47,\n",
    "       '柏の葉公園総合競技場':48, '横浜市三ツ沢公園球技場':49, '熊本県民総合運動公園陸上競技場':50, '熊谷スポーツ文化公園陸上競技場':51,\n",
    "       '県立カシマサッカースタジアム':52, '石川県西部緑地公園陸上競技場':53, '神戸総合運動公園ユニバー記念競技場':54,\n",
    "       '等々力陸上競技場':55, '豊田スタジアム':56, '静岡スタジアムエコパ':57, '鳴門・大塚スポーツパークポカリスエットスタジアム':58,\n",
    "       '鹿児島県立鴨池陸上競技場':59})"
   ]
  },
  {
   "cell_type": "code",
   "execution_count": 12,
   "metadata": {},
   "outputs": [
    {
     "data": {
      "text/html": [
       "<div>\n",
       "<style scoped>\n",
       "    .dataframe tbody tr th:only-of-type {\n",
       "        vertical-align: middle;\n",
       "    }\n",
       "\n",
       "    .dataframe tbody tr th {\n",
       "        vertical-align: top;\n",
       "    }\n",
       "\n",
       "    .dataframe thead th {\n",
       "        text-align: right;\n",
       "    }\n",
       "</style>\n",
       "<table border=\"1\" class=\"dataframe\">\n",
       "  <thead>\n",
       "    <tr style=\"text-align: right;\">\n",
       "      <th></th>\n",
       "      <th>id</th>\n",
       "      <th>match_date</th>\n",
       "      <th>kick_off_time</th>\n",
       "      <th>section</th>\n",
       "      <th>round</th>\n",
       "      <th>home_team</th>\n",
       "      <th>away_team</th>\n",
       "      <th>venue</th>\n",
       "      <th>weather</th>\n",
       "      <th>temperature</th>\n",
       "      <th>humidity</th>\n",
       "      <th>broadcasters</th>\n",
       "      <th>attendance</th>\n",
       "    </tr>\n",
       "  </thead>\n",
       "  <tbody>\n",
       "    <tr>\n",
       "      <th>0</th>\n",
       "      <td>9190</td>\n",
       "      <td>2006-03-04</td>\n",
       "      <td>16:04</td>\n",
       "      <td>第1節</td>\n",
       "      <td>第1日</td>\n",
       "      <td>G大阪</td>\n",
       "      <td>浦和</td>\n",
       "      <td>21</td>\n",
       "      <td>1</td>\n",
       "      <td>8.3</td>\n",
       "      <td>40</td>\n",
       "      <td>NHK総合/J SPORTS(録)</td>\n",
       "      <td>20916</td>\n",
       "    </tr>\n",
       "    <tr>\n",
       "      <th>1</th>\n",
       "      <td>9191</td>\n",
       "      <td>2006-03-05</td>\n",
       "      <td>13:00</td>\n",
       "      <td>第1節</td>\n",
       "      <td>第2日</td>\n",
       "      <td>甲府</td>\n",
       "      <td>清水</td>\n",
       "      <td>35</td>\n",
       "      <td>1</td>\n",
       "      <td>12.9</td>\n",
       "      <td>28</td>\n",
       "      <td>山梨放送/テレビ静岡(録)/J SPORTS(録)</td>\n",
       "      <td>14277</td>\n",
       "    </tr>\n",
       "    <tr>\n",
       "      <th>2</th>\n",
       "      <td>9192</td>\n",
       "      <td>2006-03-05</td>\n",
       "      <td>13:35</td>\n",
       "      <td>第1節</td>\n",
       "      <td>第2日</td>\n",
       "      <td>FC東京</td>\n",
       "      <td>大分</td>\n",
       "      <td>27</td>\n",
       "      <td>1</td>\n",
       "      <td>12.1</td>\n",
       "      <td>35</td>\n",
       "      <td>BS-i/MXテレビ(録)/J SPORTS(録)</td>\n",
       "      <td>22531</td>\n",
       "    </tr>\n",
       "    <tr>\n",
       "      <th>3</th>\n",
       "      <td>9193</td>\n",
       "      <td>2006-03-05</td>\n",
       "      <td>14:04</td>\n",
       "      <td>第1節</td>\n",
       "      <td>第2日</td>\n",
       "      <td>磐田</td>\n",
       "      <td>福岡</td>\n",
       "      <td>57</td>\n",
       "      <td>1</td>\n",
       "      <td>11.6</td>\n",
       "      <td>42</td>\n",
       "      <td>J SPORTS</td>\n",
       "      <td>28564</td>\n",
       "    </tr>\n",
       "    <tr>\n",
       "      <th>4</th>\n",
       "      <td>9194</td>\n",
       "      <td>2006-03-05</td>\n",
       "      <td>14:04</td>\n",
       "      <td>第1節</td>\n",
       "      <td>第2日</td>\n",
       "      <td>名古屋</td>\n",
       "      <td>C大阪</td>\n",
       "      <td>26</td>\n",
       "      <td>1</td>\n",
       "      <td>13.1</td>\n",
       "      <td>32</td>\n",
       "      <td>スカイパーフェクTV!/NHK名古屋(録)/NHK大阪(録)/J SPORTS(録)</td>\n",
       "      <td>17199</td>\n",
       "    </tr>\n",
       "  </tbody>\n",
       "</table>\n",
       "</div>"
      ],
      "text/plain": [
       "     id  match_date kick_off_time section round home_team away_team  venue  \\\n",
       "0  9190  2006-03-04         16:04     第1節   第1日       G大阪        浦和     21   \n",
       "1  9191  2006-03-05         13:00     第1節   第2日        甲府        清水     35   \n",
       "2  9192  2006-03-05         13:35     第1節   第2日      FC東京        大分     27   \n",
       "3  9193  2006-03-05         14:04     第1節   第2日        磐田        福岡     57   \n",
       "4  9194  2006-03-05         14:04     第1節   第2日       名古屋       C大阪     26   \n",
       "\n",
       "   weather  temperature  humidity                                broadcasters  \\\n",
       "0        1          8.3        40                           NHK総合/J SPORTS(録)   \n",
       "1        1         12.9        28                   山梨放送/テレビ静岡(録)/J SPORTS(録)   \n",
       "2        1         12.1        35                   BS-i/MXテレビ(録)/J SPORTS(録)   \n",
       "3        1         11.6        42                                    J SPORTS   \n",
       "4        1         13.1        32  スカイパーフェクTV!/NHK名古屋(録)/NHK大阪(録)/J SPORTS(録)   \n",
       "\n",
       "   attendance  \n",
       "0       20916  \n",
       "1       14277  \n",
       "2       22531  \n",
       "3       28564  \n",
       "4       17199  "
      ]
     },
     "execution_count": 12,
     "metadata": {},
     "output_type": "execute_result"
    }
   ],
   "source": [
    "trainData.head()"
   ]
  },
  {
   "cell_type": "markdown",
   "metadata": {},
   "source": [
    "#### 日付→曜日→ダミー"
   ]
  },
  {
   "cell_type": "code",
   "execution_count": 16,
   "metadata": {},
   "outputs": [
    {
     "name": "stderr",
     "output_type": "stream",
     "text": [
      "/home/aj1m0n/.pyenv/versions/anaconda3-4.2.0/lib/python3.5/site-packages/ipykernel_launcher.py:4: SettingWithCopyWarning: \n",
      "A value is trying to be set on a copy of a slice from a DataFrame\n",
      "\n",
      "See the caveats in the documentation: http://pandas.pydata.org/pandas-docs/stable/indexing.html#indexing-view-versus-copy\n",
      "  after removing the cwd from sys.path.\n"
     ]
    }
   ],
   "source": [
    "from datetime import datetime\n",
    "import locale\n",
    "for i in range(len(trainData)):\n",
    "    trainData[\"match_date\"][i] = trainData[\"match_date\"][i].replace(\"-0\",\",\").replace(\"-\",\",\")"
   ]
  },
  {
   "cell_type": "code",
   "execution_count": 17,
   "metadata": {},
   "outputs": [
    {
     "data": {
      "text/html": [
       "<div>\n",
       "<style scoped>\n",
       "    .dataframe tbody tr th:only-of-type {\n",
       "        vertical-align: middle;\n",
       "    }\n",
       "\n",
       "    .dataframe tbody tr th {\n",
       "        vertical-align: top;\n",
       "    }\n",
       "\n",
       "    .dataframe thead th {\n",
       "        text-align: right;\n",
       "    }\n",
       "</style>\n",
       "<table border=\"1\" class=\"dataframe\">\n",
       "  <thead>\n",
       "    <tr style=\"text-align: right;\">\n",
       "      <th></th>\n",
       "      <th>id</th>\n",
       "      <th>match_date</th>\n",
       "      <th>kick_off_time</th>\n",
       "      <th>section</th>\n",
       "      <th>round</th>\n",
       "      <th>home_team</th>\n",
       "      <th>away_team</th>\n",
       "      <th>venue</th>\n",
       "      <th>weather</th>\n",
       "      <th>temperature</th>\n",
       "      <th>humidity</th>\n",
       "      <th>broadcasters</th>\n",
       "      <th>attendance</th>\n",
       "    </tr>\n",
       "  </thead>\n",
       "  <tbody>\n",
       "    <tr>\n",
       "      <th>0</th>\n",
       "      <td>9190</td>\n",
       "      <td>2006,3,4</td>\n",
       "      <td>16:04</td>\n",
       "      <td>第1節</td>\n",
       "      <td>第1日</td>\n",
       "      <td>G大阪</td>\n",
       "      <td>浦和</td>\n",
       "      <td>21</td>\n",
       "      <td>1</td>\n",
       "      <td>8.3</td>\n",
       "      <td>40</td>\n",
       "      <td>NHK総合/J SPORTS(録)</td>\n",
       "      <td>20916</td>\n",
       "    </tr>\n",
       "    <tr>\n",
       "      <th>1</th>\n",
       "      <td>9191</td>\n",
       "      <td>2006,3,5</td>\n",
       "      <td>13:00</td>\n",
       "      <td>第1節</td>\n",
       "      <td>第2日</td>\n",
       "      <td>甲府</td>\n",
       "      <td>清水</td>\n",
       "      <td>35</td>\n",
       "      <td>1</td>\n",
       "      <td>12.9</td>\n",
       "      <td>28</td>\n",
       "      <td>山梨放送/テレビ静岡(録)/J SPORTS(録)</td>\n",
       "      <td>14277</td>\n",
       "    </tr>\n",
       "    <tr>\n",
       "      <th>2</th>\n",
       "      <td>9192</td>\n",
       "      <td>2006,3,5</td>\n",
       "      <td>13:35</td>\n",
       "      <td>第1節</td>\n",
       "      <td>第2日</td>\n",
       "      <td>FC東京</td>\n",
       "      <td>大分</td>\n",
       "      <td>27</td>\n",
       "      <td>1</td>\n",
       "      <td>12.1</td>\n",
       "      <td>35</td>\n",
       "      <td>BS-i/MXテレビ(録)/J SPORTS(録)</td>\n",
       "      <td>22531</td>\n",
       "    </tr>\n",
       "    <tr>\n",
       "      <th>3</th>\n",
       "      <td>9193</td>\n",
       "      <td>2006,3,5</td>\n",
       "      <td>14:04</td>\n",
       "      <td>第1節</td>\n",
       "      <td>第2日</td>\n",
       "      <td>磐田</td>\n",
       "      <td>福岡</td>\n",
       "      <td>57</td>\n",
       "      <td>1</td>\n",
       "      <td>11.6</td>\n",
       "      <td>42</td>\n",
       "      <td>J SPORTS</td>\n",
       "      <td>28564</td>\n",
       "    </tr>\n",
       "    <tr>\n",
       "      <th>4</th>\n",
       "      <td>9194</td>\n",
       "      <td>2006,3,5</td>\n",
       "      <td>14:04</td>\n",
       "      <td>第1節</td>\n",
       "      <td>第2日</td>\n",
       "      <td>名古屋</td>\n",
       "      <td>C大阪</td>\n",
       "      <td>26</td>\n",
       "      <td>1</td>\n",
       "      <td>13.1</td>\n",
       "      <td>32</td>\n",
       "      <td>スカイパーフェクTV!/NHK名古屋(録)/NHK大阪(録)/J SPORTS(録)</td>\n",
       "      <td>17199</td>\n",
       "    </tr>\n",
       "  </tbody>\n",
       "</table>\n",
       "</div>"
      ],
      "text/plain": [
       "     id match_date kick_off_time section round home_team away_team  venue  \\\n",
       "0  9190   2006,3,4         16:04     第1節   第1日       G大阪        浦和     21   \n",
       "1  9191   2006,3,5         13:00     第1節   第2日        甲府        清水     35   \n",
       "2  9192   2006,3,5         13:35     第1節   第2日      FC東京        大分     27   \n",
       "3  9193   2006,3,5         14:04     第1節   第2日        磐田        福岡     57   \n",
       "4  9194   2006,3,5         14:04     第1節   第2日       名古屋       C大阪     26   \n",
       "\n",
       "   weather  temperature  humidity                                broadcasters  \\\n",
       "0        1          8.3        40                           NHK総合/J SPORTS(録)   \n",
       "1        1         12.9        28                   山梨放送/テレビ静岡(録)/J SPORTS(録)   \n",
       "2        1         12.1        35                   BS-i/MXテレビ(録)/J SPORTS(録)   \n",
       "3        1         11.6        42                                    J SPORTS   \n",
       "4        1         13.1        32  スカイパーフェクTV!/NHK名古屋(録)/NHK大阪(録)/J SPORTS(録)   \n",
       "\n",
       "   attendance  \n",
       "0       20916  \n",
       "1       14277  \n",
       "2       22531  \n",
       "3       28564  \n",
       "4       17199  "
      ]
     },
     "execution_count": 17,
     "metadata": {},
     "output_type": "execute_result"
    }
   ],
   "source": [
    "trainData.head()"
   ]
  },
  {
   "cell_type": "code",
   "execution_count": 18,
   "metadata": {},
   "outputs": [
    {
     "data": {
      "text/plain": [
       "datetime.datetime(2006, 3, 5, 0, 0)"
      ]
     },
     "execution_count": 18,
     "metadata": {},
     "output_type": "execute_result"
    }
   ],
   "source": [
    "from datetime import datetime\n",
    "datetime.strptime(trainData[\"match_date\"][1],\"%Y,%m,%d\")"
   ]
  },
  {
   "cell_type": "code",
   "execution_count": 19,
   "metadata": {},
   "outputs": [],
   "source": [
    "day_of_the_week = []\n",
    "month =[]\n",
    "for i in range(len(trainData)):\n",
    "    day_of_the_week.append(datetime.strptime(trainData[\"match_date\"][i],\"%Y,%m,%d\").strftime('%a'))\n",
    "    #day_of_the_week.append(datetime.datetime(datetime.strptime(trainData[\"match_date\"][1],\"%Y,%m,%d\").strftime(\"%A\")))"
   ]
  },
  {
   "cell_type": "code",
   "execution_count": 20,
   "metadata": {},
   "outputs": [],
   "source": [
    "trainData[\"day_of_the_week\"] = day_of_the_week"
   ]
  },
  {
   "cell_type": "code",
   "execution_count": 21,
   "metadata": {},
   "outputs": [
    {
     "data": {
      "text/html": [
       "<div>\n",
       "<style scoped>\n",
       "    .dataframe tbody tr th:only-of-type {\n",
       "        vertical-align: middle;\n",
       "    }\n",
       "\n",
       "    .dataframe tbody tr th {\n",
       "        vertical-align: top;\n",
       "    }\n",
       "\n",
       "    .dataframe thead th {\n",
       "        text-align: right;\n",
       "    }\n",
       "</style>\n",
       "<table border=\"1\" class=\"dataframe\">\n",
       "  <thead>\n",
       "    <tr style=\"text-align: right;\">\n",
       "      <th></th>\n",
       "      <th>id</th>\n",
       "      <th>match_date</th>\n",
       "      <th>kick_off_time</th>\n",
       "      <th>section</th>\n",
       "      <th>round</th>\n",
       "      <th>home_team</th>\n",
       "      <th>away_team</th>\n",
       "      <th>venue</th>\n",
       "      <th>weather</th>\n",
       "      <th>temperature</th>\n",
       "      <th>humidity</th>\n",
       "      <th>broadcasters</th>\n",
       "      <th>attendance</th>\n",
       "      <th>day_of_the_week</th>\n",
       "    </tr>\n",
       "  </thead>\n",
       "  <tbody>\n",
       "    <tr>\n",
       "      <th>0</th>\n",
       "      <td>9190</td>\n",
       "      <td>2006,3,4</td>\n",
       "      <td>16:04</td>\n",
       "      <td>第1節</td>\n",
       "      <td>第1日</td>\n",
       "      <td>G大阪</td>\n",
       "      <td>浦和</td>\n",
       "      <td>21</td>\n",
       "      <td>1</td>\n",
       "      <td>8.3</td>\n",
       "      <td>40</td>\n",
       "      <td>NHK総合/J SPORTS(録)</td>\n",
       "      <td>20916</td>\n",
       "      <td>Sat</td>\n",
       "    </tr>\n",
       "    <tr>\n",
       "      <th>1</th>\n",
       "      <td>9191</td>\n",
       "      <td>2006,3,5</td>\n",
       "      <td>13:00</td>\n",
       "      <td>第1節</td>\n",
       "      <td>第2日</td>\n",
       "      <td>甲府</td>\n",
       "      <td>清水</td>\n",
       "      <td>35</td>\n",
       "      <td>1</td>\n",
       "      <td>12.9</td>\n",
       "      <td>28</td>\n",
       "      <td>山梨放送/テレビ静岡(録)/J SPORTS(録)</td>\n",
       "      <td>14277</td>\n",
       "      <td>Sun</td>\n",
       "    </tr>\n",
       "    <tr>\n",
       "      <th>2</th>\n",
       "      <td>9192</td>\n",
       "      <td>2006,3,5</td>\n",
       "      <td>13:35</td>\n",
       "      <td>第1節</td>\n",
       "      <td>第2日</td>\n",
       "      <td>FC東京</td>\n",
       "      <td>大分</td>\n",
       "      <td>27</td>\n",
       "      <td>1</td>\n",
       "      <td>12.1</td>\n",
       "      <td>35</td>\n",
       "      <td>BS-i/MXテレビ(録)/J SPORTS(録)</td>\n",
       "      <td>22531</td>\n",
       "      <td>Sun</td>\n",
       "    </tr>\n",
       "    <tr>\n",
       "      <th>3</th>\n",
       "      <td>9193</td>\n",
       "      <td>2006,3,5</td>\n",
       "      <td>14:04</td>\n",
       "      <td>第1節</td>\n",
       "      <td>第2日</td>\n",
       "      <td>磐田</td>\n",
       "      <td>福岡</td>\n",
       "      <td>57</td>\n",
       "      <td>1</td>\n",
       "      <td>11.6</td>\n",
       "      <td>42</td>\n",
       "      <td>J SPORTS</td>\n",
       "      <td>28564</td>\n",
       "      <td>Sun</td>\n",
       "    </tr>\n",
       "    <tr>\n",
       "      <th>4</th>\n",
       "      <td>9194</td>\n",
       "      <td>2006,3,5</td>\n",
       "      <td>14:04</td>\n",
       "      <td>第1節</td>\n",
       "      <td>第2日</td>\n",
       "      <td>名古屋</td>\n",
       "      <td>C大阪</td>\n",
       "      <td>26</td>\n",
       "      <td>1</td>\n",
       "      <td>13.1</td>\n",
       "      <td>32</td>\n",
       "      <td>スカイパーフェクTV!/NHK名古屋(録)/NHK大阪(録)/J SPORTS(録)</td>\n",
       "      <td>17199</td>\n",
       "      <td>Sun</td>\n",
       "    </tr>\n",
       "  </tbody>\n",
       "</table>\n",
       "</div>"
      ],
      "text/plain": [
       "     id match_date kick_off_time section round home_team away_team  venue  \\\n",
       "0  9190   2006,3,4         16:04     第1節   第1日       G大阪        浦和     21   \n",
       "1  9191   2006,3,5         13:00     第1節   第2日        甲府        清水     35   \n",
       "2  9192   2006,3,5         13:35     第1節   第2日      FC東京        大分     27   \n",
       "3  9193   2006,3,5         14:04     第1節   第2日        磐田        福岡     57   \n",
       "4  9194   2006,3,5         14:04     第1節   第2日       名古屋       C大阪     26   \n",
       "\n",
       "   weather  temperature  humidity                                broadcasters  \\\n",
       "0        1          8.3        40                           NHK総合/J SPORTS(録)   \n",
       "1        1         12.9        28                   山梨放送/テレビ静岡(録)/J SPORTS(録)   \n",
       "2        1         12.1        35                   BS-i/MXテレビ(録)/J SPORTS(録)   \n",
       "3        1         11.6        42                                    J SPORTS   \n",
       "4        1         13.1        32  スカイパーフェクTV!/NHK名古屋(録)/NHK大阪(録)/J SPORTS(録)   \n",
       "\n",
       "   attendance day_of_the_week  \n",
       "0       20916             Sat  \n",
       "1       14277             Sun  \n",
       "2       22531             Sun  \n",
       "3       28564             Sun  \n",
       "4       17199             Sun  "
      ]
     },
     "execution_count": 21,
     "metadata": {},
     "output_type": "execute_result"
    }
   ],
   "source": [
    "trainData.head()"
   ]
  },
  {
   "cell_type": "code",
   "execution_count": 22,
   "metadata": {},
   "outputs": [
    {
     "data": {
      "text/plain": [
       "array(['Fri', 'Mon', 'Sat', 'Sun', 'Thu', 'Tue', 'Wed'], dtype=object)"
      ]
     },
     "execution_count": 22,
     "metadata": {},
     "output_type": "execute_result"
    }
   ],
   "source": [
    "pd.get_dummies(trainData[\"day_of_the_week\"]).columns.values"
   ]
  },
  {
   "cell_type": "code",
   "execution_count": 23,
   "metadata": {},
   "outputs": [],
   "source": [
    "trainData[\"day_of_the_week\"] = trainData[\"day_of_the_week\"].map({'Fri':6, 'Mon':1, 'Sat':7, 'Sun':0, 'Thu':5, 'Tue':2, 'Wed':4})"
   ]
  },
  {
   "cell_type": "code",
   "execution_count": 24,
   "metadata": {},
   "outputs": [
    {
     "data": {
      "text/html": [
       "<div>\n",
       "<style scoped>\n",
       "    .dataframe tbody tr th:only-of-type {\n",
       "        vertical-align: middle;\n",
       "    }\n",
       "\n",
       "    .dataframe tbody tr th {\n",
       "        vertical-align: top;\n",
       "    }\n",
       "\n",
       "    .dataframe thead th {\n",
       "        text-align: right;\n",
       "    }\n",
       "</style>\n",
       "<table border=\"1\" class=\"dataframe\">\n",
       "  <thead>\n",
       "    <tr style=\"text-align: right;\">\n",
       "      <th></th>\n",
       "      <th>id</th>\n",
       "      <th>match_date</th>\n",
       "      <th>kick_off_time</th>\n",
       "      <th>section</th>\n",
       "      <th>round</th>\n",
       "      <th>home_team</th>\n",
       "      <th>away_team</th>\n",
       "      <th>venue</th>\n",
       "      <th>weather</th>\n",
       "      <th>temperature</th>\n",
       "      <th>humidity</th>\n",
       "      <th>broadcasters</th>\n",
       "      <th>attendance</th>\n",
       "      <th>day_of_the_week</th>\n",
       "    </tr>\n",
       "  </thead>\n",
       "  <tbody>\n",
       "    <tr>\n",
       "      <th>0</th>\n",
       "      <td>9190</td>\n",
       "      <td>2006,3,4</td>\n",
       "      <td>16:04</td>\n",
       "      <td>第1節</td>\n",
       "      <td>第1日</td>\n",
       "      <td>G大阪</td>\n",
       "      <td>浦和</td>\n",
       "      <td>21</td>\n",
       "      <td>1</td>\n",
       "      <td>8.3</td>\n",
       "      <td>40</td>\n",
       "      <td>NHK総合/J SPORTS(録)</td>\n",
       "      <td>20916</td>\n",
       "      <td>7</td>\n",
       "    </tr>\n",
       "    <tr>\n",
       "      <th>1</th>\n",
       "      <td>9191</td>\n",
       "      <td>2006,3,5</td>\n",
       "      <td>13:00</td>\n",
       "      <td>第1節</td>\n",
       "      <td>第2日</td>\n",
       "      <td>甲府</td>\n",
       "      <td>清水</td>\n",
       "      <td>35</td>\n",
       "      <td>1</td>\n",
       "      <td>12.9</td>\n",
       "      <td>28</td>\n",
       "      <td>山梨放送/テレビ静岡(録)/J SPORTS(録)</td>\n",
       "      <td>14277</td>\n",
       "      <td>0</td>\n",
       "    </tr>\n",
       "    <tr>\n",
       "      <th>2</th>\n",
       "      <td>9192</td>\n",
       "      <td>2006,3,5</td>\n",
       "      <td>13:35</td>\n",
       "      <td>第1節</td>\n",
       "      <td>第2日</td>\n",
       "      <td>FC東京</td>\n",
       "      <td>大分</td>\n",
       "      <td>27</td>\n",
       "      <td>1</td>\n",
       "      <td>12.1</td>\n",
       "      <td>35</td>\n",
       "      <td>BS-i/MXテレビ(録)/J SPORTS(録)</td>\n",
       "      <td>22531</td>\n",
       "      <td>0</td>\n",
       "    </tr>\n",
       "    <tr>\n",
       "      <th>3</th>\n",
       "      <td>9193</td>\n",
       "      <td>2006,3,5</td>\n",
       "      <td>14:04</td>\n",
       "      <td>第1節</td>\n",
       "      <td>第2日</td>\n",
       "      <td>磐田</td>\n",
       "      <td>福岡</td>\n",
       "      <td>57</td>\n",
       "      <td>1</td>\n",
       "      <td>11.6</td>\n",
       "      <td>42</td>\n",
       "      <td>J SPORTS</td>\n",
       "      <td>28564</td>\n",
       "      <td>0</td>\n",
       "    </tr>\n",
       "    <tr>\n",
       "      <th>4</th>\n",
       "      <td>9194</td>\n",
       "      <td>2006,3,5</td>\n",
       "      <td>14:04</td>\n",
       "      <td>第1節</td>\n",
       "      <td>第2日</td>\n",
       "      <td>名古屋</td>\n",
       "      <td>C大阪</td>\n",
       "      <td>26</td>\n",
       "      <td>1</td>\n",
       "      <td>13.1</td>\n",
       "      <td>32</td>\n",
       "      <td>スカイパーフェクTV!/NHK名古屋(録)/NHK大阪(録)/J SPORTS(録)</td>\n",
       "      <td>17199</td>\n",
       "      <td>0</td>\n",
       "    </tr>\n",
       "  </tbody>\n",
       "</table>\n",
       "</div>"
      ],
      "text/plain": [
       "     id match_date kick_off_time section round home_team away_team  venue  \\\n",
       "0  9190   2006,3,4         16:04     第1節   第1日       G大阪        浦和     21   \n",
       "1  9191   2006,3,5         13:00     第1節   第2日        甲府        清水     35   \n",
       "2  9192   2006,3,5         13:35     第1節   第2日      FC東京        大分     27   \n",
       "3  9193   2006,3,5         14:04     第1節   第2日        磐田        福岡     57   \n",
       "4  9194   2006,3,5         14:04     第1節   第2日       名古屋       C大阪     26   \n",
       "\n",
       "   weather  temperature  humidity                                broadcasters  \\\n",
       "0        1          8.3        40                           NHK総合/J SPORTS(録)   \n",
       "1        1         12.9        28                   山梨放送/テレビ静岡(録)/J SPORTS(録)   \n",
       "2        1         12.1        35                   BS-i/MXテレビ(録)/J SPORTS(録)   \n",
       "3        1         11.6        42                                    J SPORTS   \n",
       "4        1         13.1        32  スカイパーフェクTV!/NHK名古屋(録)/NHK大阪(録)/J SPORTS(録)   \n",
       "\n",
       "   attendance  day_of_the_week  \n",
       "0       20916                7  \n",
       "1       14277                0  \n",
       "2       22531                0  \n",
       "3       28564                0  \n",
       "4       17199                0  "
      ]
     },
     "execution_count": 24,
     "metadata": {},
     "output_type": "execute_result"
    }
   ],
   "source": [
    "trainData.head()"
   ]
  },
  {
   "cell_type": "code",
   "execution_count": 25,
   "metadata": {},
   "outputs": [
    {
     "data": {
      "text/plain": [
       "id                   int64\n",
       "match_date          object\n",
       "kick_off_time       object\n",
       "section             object\n",
       "round               object\n",
       "home_team           object\n",
       "away_team           object\n",
       "venue                int64\n",
       "weather              int64\n",
       "temperature        float64\n",
       "humidity             int64\n",
       "broadcasters        object\n",
       "attendance           int64\n",
       "day_of_the_week      int64\n",
       "dtype: object"
      ]
     },
     "execution_count": 25,
     "metadata": {},
     "output_type": "execute_result"
    }
   ],
   "source": [
    "trainData.dtypes"
   ]
  },
  {
   "cell_type": "code",
   "execution_count": 26,
   "metadata": {},
   "outputs": [
    {
     "data": {
      "text/plain": [
       "<matplotlib.axes._subplots.AxesSubplot at 0x7fb9515bfba8>"
      ]
     },
     "execution_count": 26,
     "metadata": {},
     "output_type": "execute_result"
    },
    {
     "data": {
      "image/png": "[encoded data removed]",
      "text/plain": [
       "<Figure size 432x288 with 2 Axes>"
      ]
     },
     "metadata": {
      "needs_background": "light"
     },
     "output_type": "display_data"
    }
   ],
   "source": [
    "sns.heatmap(trainData[['id','venue','weather','temperature','day_of_the_week','humidity','attendance']].corr(), annot=True, fmt = \".2f\", cmap = \"coolwarm\")"
   ]
  },
  {
   "cell_type": "markdown",
   "metadata": {},
   "source": [
    "#### セクション，ラウンド"
   ]
  },
  {
   "cell_type": "code",
   "execution_count": 27,
   "metadata": {},
   "outputs": [
    {
     "data": {
      "text/plain": [
       "array(['第10節', '第11節', '第12節', '第13節', '第14節', '第15節', '第16節', '第17節',\n",
       "       '第18節', '第19節', '第1節', '第20節', '第21節', '第22節', '第23節', '第24節',\n",
       "       '第25節', '第26節', '第27節', '第28節', '第29節', '第2節', '第30節', '第31節',\n",
       "       '第32節', '第33節', '第34節', '第3節', '第4節', '第5節', '第6節', '第7節', '第8節',\n",
       "       '第9節'], dtype=object)"
      ]
     },
     "execution_count": 27,
     "metadata": {},
     "output_type": "execute_result"
    }
   ],
   "source": [
    "pd.get_dummies(trainData[\"section\"]).columns.values"
   ]
  },
  {
   "cell_type": "code",
   "execution_count": 28,
   "metadata": {},
   "outputs": [
    {
     "name": "stderr",
     "output_type": "stream",
     "text": [
      "/home/aj1m0n/.pyenv/versions/anaconda3-4.2.0/lib/python3.5/site-packages/ipykernel_launcher.py:2: SettingWithCopyWarning: \n",
      "A value is trying to be set on a copy of a slice from a DataFrame\n",
      "\n",
      "See the caveats in the documentation: http://pandas.pydata.org/pandas-docs/stable/indexing.html#indexing-view-versus-copy\n",
      "  \n"
     ]
    }
   ],
   "source": [
    "for i in range(len(trainData)):\n",
    "    trainData[\"section\"][i] = trainData[\"section\"][i].replace(\"第\",\"\").replace(\"節\",\"\")"
   ]
  },
  {
   "cell_type": "code",
   "execution_count": 29,
   "metadata": {},
   "outputs": [
    {
     "name": "stderr",
     "output_type": "stream",
     "text": [
      "/home/aj1m0n/.pyenv/versions/anaconda3-4.2.0/lib/python3.5/site-packages/ipykernel_launcher.py:2: SettingWithCopyWarning: \n",
      "A value is trying to be set on a copy of a slice from a DataFrame\n",
      "\n",
      "See the caveats in the documentation: http://pandas.pydata.org/pandas-docs/stable/indexing.html#indexing-view-versus-copy\n",
      "  \n"
     ]
    }
   ],
   "source": [
    "for i in range(len(trainData)):\n",
    "    trainData[\"round\"][i] = trainData[\"round\"][i].replace(\"第\",\"\").replace(\"日\",\"\")"
   ]
  },
  {
   "cell_type": "code",
   "execution_count": null,
   "metadata": {},
   "outputs": [],
   "source": []
  },
  {
   "cell_type": "code",
   "execution_count": null,
   "metadata": {},
   "outputs": [],
   "source": []
  }
 ],
 "metadata": {
  "kernelspec": {
   "display_name": "Python 3",
   "language": "python",
   "name": "python3"
  },
  "language_info": {
   "codemirror_mode": {
    "name": "ipython",
    "version": 3
   },
   "file_extension": ".py",
   "mimetype": "text/x-python",
   "name": "python",
   "nbconvert_exporter": "python",
   "pygments_lexer": "ipython3",
   "version": "3.5.2"
  }
 },
 "nbformat": 4,
 "nbformat_minor": 2
}
